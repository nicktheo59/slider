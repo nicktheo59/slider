{
 "cells": [
  {
   "cell_type": "code",
   "execution_count": 1,
   "id": "0537e5b8-44c2-4c40-90b6-80429a4d1d26",
   "metadata": {},
   "outputs": [
    {
     "name": "stdout",
     "output_type": "stream",
     "text": [
      "Enabling: voila\n",
      "- Writing config: /Users/nickltheodorou/anaconda3/etc/jupyter\n",
      "    - Validating...\n",
      "      voila 0.5.5 \u001b[32mOK\u001b[0m\n"
     ]
    }
   ],
   "source": [
    "#!jupyter serverextension enable voila --sys-prefix"
   ]
  },
  {
   "cell_type": "code",
   "execution_count": 1,
   "id": "9438cee5-2f97-48bc-a414-d744ee0f7f8d",
   "metadata": {},
   "outputs": [],
   "source": [
    "import tkinter as tk\n",
    "from tkinter import ttk, Label, PhotoImage\n",
    "import math\n",
    "\n",
    "# Function to calculate resonant frequency and wavelength\n",
    "def calculate_resonant_properties(length, width, thickness, gap):\n",
    "    epsilon_0 = 8.854187817e-12  # Permittivity of free space\n",
    "    c = 299792458  # Speed of light in vacuum, in meters per second\n",
    "    L = (length * math.log(length / width)) / thickness\n",
    "    C = epsilon_0 * width / gap\n",
    "    frequency = 1 / (2 * math.pi * math.sqrt(L * C))\n",
    "    wavelength = c / frequency\n",
    "    return frequency, wavelength\n",
    "\n",
    "# Function to update the resonant properties and display values\n",
    "def update_resonant_properties(*args):\n",
    "    length = length_var.get()\n",
    "    width = width_var.get()\n",
    "    thickness = thickness_var.get()\n",
    "    gap = gap_var.get()\n",
    "    frequency, wavelength = calculate_resonant_properties(length, width, thickness, gap)\n",
    "    result_label.config(text=f\"Resonant Frequency: {frequency:.2f} Hz\\nResonant Wavelength: {wavelength:.2f} m\")\n",
    "    update_value_labels(length, width, thickness, gap)\n",
    "\n",
    "# Function to update the value labels\n",
    "def update_value_labels(length, width, thickness, gap):\n",
    "    length_value_label.config(text=f\"{length:.4f} m\")\n",
    "    width_value_label.config(text=f\"{width:.4f} m\")\n",
    "    thickness_value_label.config(text=f\"{thickness:.4f} m\")\n",
    "    gap_value_label.config(text=f\"{gap:.4f} m\")\n",
    "\n",
    "# Create the main window\n",
    "root = tk.Tk()\n",
    "root.title(\"SRR Resonant Properties Calculator\")\n",
    "\n",
    "# Create variables for parameters\n",
    "length_var = tk.DoubleVar(value=0.01)\n",
    "width_var = tk.DoubleVar(value=0.001)\n",
    "thickness_var = tk.DoubleVar(value=0.0005)\n",
    "gap_var = tk.DoubleVar(value=0.0001)\n",
    "\n",
    "# Create sliders, labels, and value labels\n",
    "ttk.Label(root, text=\"Length (m):\").pack()\n",
    "length_slider = ttk.Scale(root, from_=0.001, to=0.1, orient='horizontal', variable=length_var, command=update_resonant_properties)\n",
    "length_slider.pack(fill='x', padx=20, pady=5)\n",
    "length_value_label = ttk.Label(root, text=\"0.01 m\")\n",
    "length_value_label.pack()\n",
    "\n",
    "ttk.Label(root, text=\"Width (m):\").pack()\n",
    "width_slider = ttk.Scale(root, from_=0.0001, to=0.01, orient='horizontal', variable=width_var, command=update_resonant_properties)\n",
    "width_slider.pack(fill='x', padx=20, pady=5)\n",
    "width_value_label = ttk.Label(root, text=\"0.001 m\")\n",
    "width_value_label.pack()\n",
    "\n",
    "ttk.Label(root, text=\"Thickness (m):\").pack()\n",
    "thickness_slider = ttk.Scale(root, from_=0.0001, to=0.01, orient='horizontal', variable=thickness_var, command=update_resonant_properties)\n",
    "thickness_slider.pack(fill='x', padx=20, pady=5)\n",
    "thickness_value_label = ttk.Label(root, text=\"0.0005 m\")\n",
    "thickness_value_label.pack()\n",
    "\n",
    "ttk.Label(root, text=\"Gap (m):\").pack()\n",
    "gap_slider = ttk.Scale(root, from_=0.00001, to=0.001, orient='horizontal', variable=gap_var, command=update_resonant_properties)\n",
    "gap_slider.pack(fill='x', padx=20, pady=5)\n",
    "gap_value_label = ttk.Label(root, text=\"0.0001 m\")\n",
    "gap_value_label.pack()\n",
    "\n",
    "# Label to display the resonant frequency and wavelength\n",
    "result_label = ttk.Label(root, text=\"Resonant Frequency: \\nResonant Wavelength: \")\n",
    "result_label.pack(pady=10)\n",
    "\n",
    "# Image display section\n",
    "image_label = Label(root)\n",
    "image_label.pack(pady=10)\n",
    "try:\n",
    "    image = PhotoImage(file=\"slider3.png\")  # Replace with the path to your image\n",
    "    image_label.config(image=image)\n",
    "    image_label.image = image  # Keep a reference to avoid garbage collection\n",
    "except Exception as e:\n",
    "    image_label.config(text=\"Image not found\")\n",
    "\n",
    "# Initialize the resonant properties display\n",
    "update_resonant_properties()\n",
    "\n",
    "# Start the GUI event loop\n",
    "root.mainloop()\n"
   ]
  },
  {
   "cell_type": "code",
   "execution_count": 3,
   "id": "8003382a-1df1-4ffd-9576-35640ab4afb0",
   "metadata": {},
   "outputs": [],
   "source": [
    "!pip freeze > requirements.txt"
   ]
  },
  {
   "cell_type": "code",
   "execution_count": null,
   "id": "931c4e1e",
   "metadata": {},
   "outputs": [],
   "source": []
  }
 ],
 "metadata": {
  "kernelspec": {
   "display_name": "Python 3 (ipykernel)",
   "language": "python",
   "name": "python3"
  },
  "language_info": {
   "codemirror_mode": {
    "name": "ipython",
    "version": 3
   },
   "file_extension": ".py",
   "mimetype": "text/x-python",
   "name": "python",
   "nbconvert_exporter": "python",
   "pygments_lexer": "ipython3",
   "version": "3.11.5"
  }
 },
 "nbformat": 4,
 "nbformat_minor": 5
}
